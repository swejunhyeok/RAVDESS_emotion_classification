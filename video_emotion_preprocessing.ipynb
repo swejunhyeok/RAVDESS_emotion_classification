{
 "cells": [
  {
   "cell_type": "code",
   "execution_count": 35,
   "metadata": {},
   "outputs": [
    {
     "name": "stdout",
     "output_type": "stream",
     "text": [
      "--- Video data loaded. Loading time : 1246.1424078941345 seconds ---\n"
     ]
    }
   ],
   "source": [
    "import joblib\n",
    "import torch\n",
    "import librosa\n",
    "import os\n",
    "import cv2\n",
    "import time\n",
    "import numpy as np\n",
    "        \n",
    "lst = []\n",
    "start_time = time.time()\n",
    "path = \"RAVDESS\"\n",
    "\n",
    "min_X = 1000000\n",
    "min_frame = 1000\n",
    "\n",
    "cnt = 0\n",
    "\n",
    "for subdir, dirs, files in os.walk(path):\n",
    "    for file in files:\n",
    "        if file.endswith('.mp4'):\n",
    "            X, sample_rate = librosa.load(os.path.join(subdir,file), res_type='kaiser_fast')\n",
    "            mfccs = np.mean(librosa.feature.mfcc(y=X, sr=sample_rate, n_mfcc=40).T,axis=0)\n",
    "            video = []\n",
    "            capture = cv2.VideoCapture(os.path.join(subdir,file))\n",
    "            total_frame = capture.get(cv2.CAP_PROP_FRAME_COUNT)\n",
    "            cnt = cnt + 1\n",
    "            \n",
    "            video = []\n",
    "            frame_num = 16\n",
    "            total_frame = capture.get(cv2.CAP_PROP_FRAME_COUNT) - 1\n",
    "            df = (int)(total_frame / frame_num)\n",
    "\n",
    "            while(capture.isOpened()):\n",
    "                if capture.get(cv2.CAP_PROP_POS_FRAMES) + 1 == capture.get(cv2.CAP_PROP_FRAME_COUNT):\n",
    "                    break\n",
    "                elif (capture.get(cv2.CAP_PROP_POS_FRAMES) + 1) % df != 0 :\n",
    "                    ret, frame = capture.read()\n",
    "                    continue\n",
    "                ret, frame = capture.read()\n",
    "                frame = cv2.cvtColor(frame, cv2.COLOR_BGR2GRAY)\n",
    "                frame = cv2.resize(frame, (128, 128))\n",
    "                video.append(frame)\n",
    "                if len(video) == frame_num:\n",
    "                    break\n",
    "                    \n",
    "            file = int(file[7:8]) - 1\n",
    "            arr = video, X[:64916], file, mfccs\n",
    "            lst.append(arr)\n",
    "print(\"--- Video data loaded. Loading time : %s seconds ---\" % (time.time() - start_time))"
   ]
  },
  {
   "cell_type": "code",
   "execution_count": 36,
   "metadata": {},
   "outputs": [
    {
     "name": "stdout",
     "output_type": "stream",
     "text": [
      "(2452, 16, 128, 128) (2452, 64916) (2452, 40) (2452,)\n"
     ]
    }
   ],
   "source": [
    "video_name = 'video.joblib'\n",
    "audio_name = 'audio.joblib'\n",
    "audio_mfcc_name = 'audio_mfcc.joblib'\n",
    "y_name = 'y.joblib'\n",
    "\n",
    "train_save_dir = 'RAVDESS_Model/train'\n",
    "test_save_dir = 'RAVDESS_Model/test'\n",
    "\n",
    "if not os.path.exists(train_save_dir):\n",
    "        os.makedirs(train_save_dir)\n",
    "if not os.path.exists(test_save_dir):\n",
    "        os.makedirs(test_save_dir)\n",
    "\n",
    "X1, X2, y, X3 = zip(*lst)\n",
    "video = np.asarray(X1)\n",
    "audio = np.asarray(X2)\n",
    "audio_mfcc = np.asarray(X3)\n",
    "y = np.asarray(y)\n",
    "\n",
    "train_index = np.random.choice(2452, 2000, replace=False)\n",
    "test_index = np.delete(np.asarray(range(2452)), index)\n",
    "\n",
    "print(video.shape, audio.shape, audio_mfcc.shape, y.shape)"
   ]
  },
  {
   "cell_type": "code",
   "execution_count": 37,
   "metadata": {},
   "outputs": [
    {
     "name": "stdout",
     "output_type": "stream",
     "text": [
      "(2000, 16, 128, 128) (2000, 64916) (2000, 40) (2000,)\n",
      "(452, 16, 128, 128) (452, 64916) (452, 40) (452,)\n"
     ]
    }
   ],
   "source": [
    "joblib.dump(video[train_index], os.path.join(train_save_dir, video_name))\n",
    "joblib.dump(audio[train_index], os.path.join(train_save_dir, audio_name))\n",
    "joblib.dump(audio_mfcc[train_index], os.path.join(train_save_dir, audio_mfcc_name))\n",
    "joblib.dump(y[train_index], os.path.join(train_save_dir, y_name))\n",
    "\n",
    "joblib.dump(video[test_index], os.path.join(test_save_dir, video_name))\n",
    "joblib.dump(audio[test_index], os.path.join(test_save_dir, audio_name))\n",
    "joblib.dump(audio_mfcc[test_index], os.path.join(test_save_dir, audio_mfcc_name))\n",
    "joblib.dump(y[test_index], os.path.join(test_save_dir, y_name))\n",
    "\n",
    "train_video = joblib.load(train_save_dir + '/video.joblib')\n",
    "train_audio = joblib.load(train_save_dir + '/audio.joblib')\n",
    "train_audio_mfcc = joblib.load(train_save_dir + '/audio_mfcc.joblib')\n",
    "train_y = joblib.load(train_save_dir + '/y.joblib')\n",
    "\n",
    "test_video = joblib.load(test_save_dir + '/video.joblib')\n",
    "test_audio = joblib.load(test_save_dir + '/audio.joblib')\n",
    "test_audio_mfcc = joblib.load(test_save_dir + '/audio_mfcc.joblib')\n",
    "test_y = joblib.load(test_save_dir + '/y.joblib')\n",
    "\n",
    "print(train_video.shape, train_audio.shape, train_audio_mfcc.shape, train_y.shape)\n",
    "print(test_video.shape, test_audio.shape, test_audio_mfcc.shape, test_y.shape)"
   ]
  },
  {
   "cell_type": "code",
   "execution_count": null,
   "metadata": {},
   "outputs": [],
   "source": []
  }
 ],
 "metadata": {
  "kernelspec": {
   "display_name": "[displayKenrelName]",
   "language": "python",
   "name": "torch_1.3.0"
  },
  "language_info": {
   "codemirror_mode": {
    "name": "ipython",
    "version": 3
   },
   "file_extension": ".py",
   "mimetype": "text/x-python",
   "name": "python",
   "nbconvert_exporter": "python",
   "pygments_lexer": "ipython3",
   "version": "3.7.5"
  }
 },
 "nbformat": 4,
 "nbformat_minor": 2
}
